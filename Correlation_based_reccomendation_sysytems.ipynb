{
  "nbformat": 4,
  "nbformat_minor": 0,
  "metadata": {
    "colab": {
      "name": "Correlation based reccomendation sysytems.ipynb",
      "version": "0.3.2",
      "provenance": [],
      "collapsed_sections": []
    },
    "kernelspec": {
      "name": "python3",
      "display_name": "Python 3"
    }
  },
  "cells": [
    {
      "metadata": {
        "id": "LfO9KthsE43w",
        "colab_type": "code",
        "colab": {}
      },
      "cell_type": "code",
      "source": [
        "#item based recommendation sysytem - simple collaborative filtering peasrson R correlation. r (1 to -1)\n",
        "#Based on user rating\n",
        "#Collaborative filtering technique\n",
        "\n",
        "import numpy as np\n",
        "import pandas as pd\n"
      ],
      "execution_count": 0,
      "outputs": []
    },
    {
      "metadata": {
        "id": "-3lgSVJ5Ji2n",
        "colab_type": "code",
        "colab": {}
      },
      "cell_type": "code",
      "source": [
        "frame = pd.read_csv('rating_final.csv')\n",
        "cuisine = pd.read_csv('chefmozcuisine.csv')\n"
      ],
      "execution_count": 0,
      "outputs": []
    },
    {
      "metadata": {
        "id": "xCkTqsTUP0My",
        "colab_type": "code",
        "outputId": "60e50da3-5982-4b8d-9f5e-07ef15d2ab5c",
        "colab": {
          "base_uri": "https://localhost:8080/",
          "height": 204
        }
      },
      "cell_type": "code",
      "source": [
        "frame.head()"
      ],
      "execution_count": 3,
      "outputs": [
        {
          "output_type": "execute_result",
          "data": {
            "text/html": [
              "<div>\n",
              "<style scoped>\n",
              "    .dataframe tbody tr th:only-of-type {\n",
              "        vertical-align: middle;\n",
              "    }\n",
              "\n",
              "    .dataframe tbody tr th {\n",
              "        vertical-align: top;\n",
              "    }\n",
              "\n",
              "    .dataframe thead th {\n",
              "        text-align: right;\n",
              "    }\n",
              "</style>\n",
              "<table border=\"1\" class=\"dataframe\">\n",
              "  <thead>\n",
              "    <tr style=\"text-align: right;\">\n",
              "      <th></th>\n",
              "      <th>userID</th>\n",
              "      <th>placeID</th>\n",
              "      <th>rating</th>\n",
              "      <th>food_rating</th>\n",
              "      <th>service_rating</th>\n",
              "    </tr>\n",
              "  </thead>\n",
              "  <tbody>\n",
              "    <tr>\n",
              "      <th>0</th>\n",
              "      <td>U1077</td>\n",
              "      <td>135085</td>\n",
              "      <td>2</td>\n",
              "      <td>2</td>\n",
              "      <td>2</td>\n",
              "    </tr>\n",
              "    <tr>\n",
              "      <th>1</th>\n",
              "      <td>U1077</td>\n",
              "      <td>135038</td>\n",
              "      <td>2</td>\n",
              "      <td>2</td>\n",
              "      <td>1</td>\n",
              "    </tr>\n",
              "    <tr>\n",
              "      <th>2</th>\n",
              "      <td>U1077</td>\n",
              "      <td>132825</td>\n",
              "      <td>2</td>\n",
              "      <td>2</td>\n",
              "      <td>2</td>\n",
              "    </tr>\n",
              "    <tr>\n",
              "      <th>3</th>\n",
              "      <td>U1077</td>\n",
              "      <td>135060</td>\n",
              "      <td>1</td>\n",
              "      <td>2</td>\n",
              "      <td>2</td>\n",
              "    </tr>\n",
              "    <tr>\n",
              "      <th>4</th>\n",
              "      <td>U1068</td>\n",
              "      <td>135104</td>\n",
              "      <td>1</td>\n",
              "      <td>1</td>\n",
              "      <td>2</td>\n",
              "    </tr>\n",
              "  </tbody>\n",
              "</table>\n",
              "</div>"
            ],
            "text/plain": [
              "  userID  placeID  rating  food_rating  service_rating\n",
              "0  U1077   135085       2            2               2\n",
              "1  U1077   135038       2            2               1\n",
              "2  U1077   132825       2            2               2\n",
              "3  U1077   135060       1            2               2\n",
              "4  U1068   135104       1            1               2"
            ]
          },
          "metadata": {
            "tags": []
          },
          "execution_count": 3
        }
      ]
    },
    {
      "metadata": {
        "id": "-Ona04GkP2iJ",
        "colab_type": "code",
        "outputId": "3be180b1-1846-403e-a9ec-ac1e1fa070be",
        "colab": {
          "base_uri": "https://localhost:8080/",
          "height": 204
        }
      },
      "cell_type": "code",
      "source": [
        "cuisine.head()"
      ],
      "execution_count": 4,
      "outputs": [
        {
          "output_type": "execute_result",
          "data": {
            "text/html": [
              "<div>\n",
              "<style scoped>\n",
              "    .dataframe tbody tr th:only-of-type {\n",
              "        vertical-align: middle;\n",
              "    }\n",
              "\n",
              "    .dataframe tbody tr th {\n",
              "        vertical-align: top;\n",
              "    }\n",
              "\n",
              "    .dataframe thead th {\n",
              "        text-align: right;\n",
              "    }\n",
              "</style>\n",
              "<table border=\"1\" class=\"dataframe\">\n",
              "  <thead>\n",
              "    <tr style=\"text-align: right;\">\n",
              "      <th></th>\n",
              "      <th>placeID</th>\n",
              "      <th>Rcuisine</th>\n",
              "    </tr>\n",
              "  </thead>\n",
              "  <tbody>\n",
              "    <tr>\n",
              "      <th>0</th>\n",
              "      <td>135110</td>\n",
              "      <td>Spanish</td>\n",
              "    </tr>\n",
              "    <tr>\n",
              "      <th>1</th>\n",
              "      <td>135109</td>\n",
              "      <td>Italian</td>\n",
              "    </tr>\n",
              "    <tr>\n",
              "      <th>2</th>\n",
              "      <td>135107</td>\n",
              "      <td>Latin_American</td>\n",
              "    </tr>\n",
              "    <tr>\n",
              "      <th>3</th>\n",
              "      <td>135106</td>\n",
              "      <td>Mexican</td>\n",
              "    </tr>\n",
              "    <tr>\n",
              "      <th>4</th>\n",
              "      <td>135105</td>\n",
              "      <td>Fast_Food</td>\n",
              "    </tr>\n",
              "  </tbody>\n",
              "</table>\n",
              "</div>"
            ],
            "text/plain": [
              "   placeID        Rcuisine\n",
              "0   135110         Spanish\n",
              "1   135109         Italian\n",
              "2   135107  Latin_American\n",
              "3   135106         Mexican\n",
              "4   135105       Fast_Food"
            ]
          },
          "metadata": {
            "tags": []
          },
          "execution_count": 4
        }
      ]
    },
    {
      "metadata": {
        "id": "_3ohKyZ_KMYP",
        "colab_type": "code",
        "outputId": "78fef1c4-c4cc-4ff7-e721-f06f6b9df727",
        "colab": {
          "base_uri": "https://localhost:8080/",
          "height": 423
        }
      },
      "cell_type": "code",
      "source": [
        "geodata = pd.read_csv('geoplaces2.csv', encoding='latin-1')\n",
        "geodata.head()\n",
        "\n"
      ],
      "execution_count": 5,
      "outputs": [
        {
          "output_type": "execute_result",
          "data": {
            "text/html": [
              "<div>\n",
              "<style scoped>\n",
              "    .dataframe tbody tr th:only-of-type {\n",
              "        vertical-align: middle;\n",
              "    }\n",
              "\n",
              "    .dataframe tbody tr th {\n",
              "        vertical-align: top;\n",
              "    }\n",
              "\n",
              "    .dataframe thead th {\n",
              "        text-align: right;\n",
              "    }\n",
              "</style>\n",
              "<table border=\"1\" class=\"dataframe\">\n",
              "  <thead>\n",
              "    <tr style=\"text-align: right;\">\n",
              "      <th></th>\n",
              "      <th>placeID</th>\n",
              "      <th>latitude</th>\n",
              "      <th>longitude</th>\n",
              "      <th>the_geom_meter</th>\n",
              "      <th>name</th>\n",
              "      <th>address</th>\n",
              "      <th>city</th>\n",
              "      <th>state</th>\n",
              "      <th>country</th>\n",
              "      <th>fax</th>\n",
              "      <th>...</th>\n",
              "      <th>alcohol</th>\n",
              "      <th>smoking_area</th>\n",
              "      <th>dress_code</th>\n",
              "      <th>accessibility</th>\n",
              "      <th>price</th>\n",
              "      <th>url</th>\n",
              "      <th>Rambience</th>\n",
              "      <th>franchise</th>\n",
              "      <th>area</th>\n",
              "      <th>other_services</th>\n",
              "    </tr>\n",
              "  </thead>\n",
              "  <tbody>\n",
              "    <tr>\n",
              "      <th>0</th>\n",
              "      <td>134999</td>\n",
              "      <td>18.915421</td>\n",
              "      <td>-99.184871</td>\n",
              "      <td>0101000020957F000088568DE356715AC138C0A525FC46...</td>\n",
              "      <td>Kiku Cuernavaca</td>\n",
              "      <td>Revolucion</td>\n",
              "      <td>Cuernavaca</td>\n",
              "      <td>Morelos</td>\n",
              "      <td>Mexico</td>\n",
              "      <td>?</td>\n",
              "      <td>...</td>\n",
              "      <td>No_Alcohol_Served</td>\n",
              "      <td>none</td>\n",
              "      <td>informal</td>\n",
              "      <td>no_accessibility</td>\n",
              "      <td>medium</td>\n",
              "      <td>kikucuernavaca.com.mx</td>\n",
              "      <td>familiar</td>\n",
              "      <td>f</td>\n",
              "      <td>closed</td>\n",
              "      <td>none</td>\n",
              "    </tr>\n",
              "    <tr>\n",
              "      <th>1</th>\n",
              "      <td>132825</td>\n",
              "      <td>22.147392</td>\n",
              "      <td>-100.983092</td>\n",
              "      <td>0101000020957F00001AD016568C4858C1243261274BA5...</td>\n",
              "      <td>puesto de tacos</td>\n",
              "      <td>esquina santos degollado y leon guzman</td>\n",
              "      <td>s.l.p.</td>\n",
              "      <td>s.l.p.</td>\n",
              "      <td>mexico</td>\n",
              "      <td>?</td>\n",
              "      <td>...</td>\n",
              "      <td>No_Alcohol_Served</td>\n",
              "      <td>none</td>\n",
              "      <td>informal</td>\n",
              "      <td>completely</td>\n",
              "      <td>low</td>\n",
              "      <td>?</td>\n",
              "      <td>familiar</td>\n",
              "      <td>f</td>\n",
              "      <td>open</td>\n",
              "      <td>none</td>\n",
              "    </tr>\n",
              "    <tr>\n",
              "      <th>2</th>\n",
              "      <td>135106</td>\n",
              "      <td>22.149709</td>\n",
              "      <td>-100.976093</td>\n",
              "      <td>0101000020957F0000649D6F21634858C119AE9BF528A3...</td>\n",
              "      <td>El Rincón de San Francisco</td>\n",
              "      <td>Universidad 169</td>\n",
              "      <td>San Luis Potosi</td>\n",
              "      <td>San Luis Potosi</td>\n",
              "      <td>Mexico</td>\n",
              "      <td>?</td>\n",
              "      <td>...</td>\n",
              "      <td>Wine-Beer</td>\n",
              "      <td>only at bar</td>\n",
              "      <td>informal</td>\n",
              "      <td>partially</td>\n",
              "      <td>medium</td>\n",
              "      <td>?</td>\n",
              "      <td>familiar</td>\n",
              "      <td>f</td>\n",
              "      <td>open</td>\n",
              "      <td>none</td>\n",
              "    </tr>\n",
              "    <tr>\n",
              "      <th>3</th>\n",
              "      <td>132667</td>\n",
              "      <td>23.752697</td>\n",
              "      <td>-99.163359</td>\n",
              "      <td>0101000020957F00005D67BCDDED8157C1222A2DC8D84D...</td>\n",
              "      <td>little pizza Emilio Portes Gil</td>\n",
              "      <td>calle emilio portes gil</td>\n",
              "      <td>victoria</td>\n",
              "      <td>tamaulipas</td>\n",
              "      <td>?</td>\n",
              "      <td>?</td>\n",
              "      <td>...</td>\n",
              "      <td>No_Alcohol_Served</td>\n",
              "      <td>none</td>\n",
              "      <td>informal</td>\n",
              "      <td>completely</td>\n",
              "      <td>low</td>\n",
              "      <td>?</td>\n",
              "      <td>familiar</td>\n",
              "      <td>t</td>\n",
              "      <td>closed</td>\n",
              "      <td>none</td>\n",
              "    </tr>\n",
              "    <tr>\n",
              "      <th>4</th>\n",
              "      <td>132613</td>\n",
              "      <td>23.752903</td>\n",
              "      <td>-99.165076</td>\n",
              "      <td>0101000020957F00008EBA2D06DC8157C194E03B7B504E...</td>\n",
              "      <td>carnitas_mata</td>\n",
              "      <td>lic. Emilio portes gil</td>\n",
              "      <td>victoria</td>\n",
              "      <td>Tamaulipas</td>\n",
              "      <td>Mexico</td>\n",
              "      <td>?</td>\n",
              "      <td>...</td>\n",
              "      <td>No_Alcohol_Served</td>\n",
              "      <td>permitted</td>\n",
              "      <td>informal</td>\n",
              "      <td>completely</td>\n",
              "      <td>medium</td>\n",
              "      <td>?</td>\n",
              "      <td>familiar</td>\n",
              "      <td>t</td>\n",
              "      <td>closed</td>\n",
              "      <td>none</td>\n",
              "    </tr>\n",
              "  </tbody>\n",
              "</table>\n",
              "<p>5 rows × 21 columns</p>\n",
              "</div>"
            ],
            "text/plain": [
              "   placeID   latitude   longitude  \\\n",
              "0   134999  18.915421  -99.184871   \n",
              "1   132825  22.147392 -100.983092   \n",
              "2   135106  22.149709 -100.976093   \n",
              "3   132667  23.752697  -99.163359   \n",
              "4   132613  23.752903  -99.165076   \n",
              "\n",
              "                                      the_geom_meter  \\\n",
              "0  0101000020957F000088568DE356715AC138C0A525FC46...   \n",
              "1  0101000020957F00001AD016568C4858C1243261274BA5...   \n",
              "2  0101000020957F0000649D6F21634858C119AE9BF528A3...   \n",
              "3  0101000020957F00005D67BCDDED8157C1222A2DC8D84D...   \n",
              "4  0101000020957F00008EBA2D06DC8157C194E03B7B504E...   \n",
              "\n",
              "                             name                                 address  \\\n",
              "0                 Kiku Cuernavaca                              Revolucion   \n",
              "1                 puesto de tacos  esquina santos degollado y leon guzman   \n",
              "2      El Rincón de San Francisco                         Universidad 169   \n",
              "3  little pizza Emilio Portes Gil                 calle emilio portes gil   \n",
              "4                   carnitas_mata                  lic. Emilio portes gil   \n",
              "\n",
              "              city            state country fax      ...        \\\n",
              "0       Cuernavaca          Morelos  Mexico   ?      ...         \n",
              "1           s.l.p.           s.l.p.  mexico   ?      ...         \n",
              "2  San Luis Potosi  San Luis Potosi  Mexico   ?      ...         \n",
              "3        victoria        tamaulipas       ?   ?      ...         \n",
              "4         victoria       Tamaulipas  Mexico   ?      ...         \n",
              "\n",
              "             alcohol smoking_area dress_code     accessibility   price  \\\n",
              "0  No_Alcohol_Served         none   informal  no_accessibility  medium   \n",
              "1  No_Alcohol_Served         none   informal        completely     low   \n",
              "2          Wine-Beer  only at bar   informal         partially  medium   \n",
              "3  No_Alcohol_Served         none   informal        completely     low   \n",
              "4  No_Alcohol_Served    permitted   informal        completely  medium   \n",
              "\n",
              "                     url Rambience franchise    area other_services  \n",
              "0  kikucuernavaca.com.mx  familiar         f  closed           none  \n",
              "1                      ?  familiar         f    open           none  \n",
              "2                      ?  familiar         f    open           none  \n",
              "3                      ?  familiar         t  closed           none  \n",
              "4                      ?  familiar         t  closed           none  \n",
              "\n",
              "[5 rows x 21 columns]"
            ]
          },
          "metadata": {
            "tags": []
          },
          "execution_count": 5
        }
      ]
    },
    {
      "metadata": {
        "id": "7bHfjdOUMT0a",
        "colab_type": "code",
        "outputId": "96b62f0e-4471-44fd-fb68-8587212b61ad",
        "colab": {
          "base_uri": "https://localhost:8080/",
          "height": 204
        }
      },
      "cell_type": "code",
      "source": [
        "places = geodata[['placeID','name']]\n",
        "places.head()"
      ],
      "execution_count": 6,
      "outputs": [
        {
          "output_type": "execute_result",
          "data": {
            "text/html": [
              "<div>\n",
              "<style scoped>\n",
              "    .dataframe tbody tr th:only-of-type {\n",
              "        vertical-align: middle;\n",
              "    }\n",
              "\n",
              "    .dataframe tbody tr th {\n",
              "        vertical-align: top;\n",
              "    }\n",
              "\n",
              "    .dataframe thead th {\n",
              "        text-align: right;\n",
              "    }\n",
              "</style>\n",
              "<table border=\"1\" class=\"dataframe\">\n",
              "  <thead>\n",
              "    <tr style=\"text-align: right;\">\n",
              "      <th></th>\n",
              "      <th>placeID</th>\n",
              "      <th>name</th>\n",
              "    </tr>\n",
              "  </thead>\n",
              "  <tbody>\n",
              "    <tr>\n",
              "      <th>0</th>\n",
              "      <td>134999</td>\n",
              "      <td>Kiku Cuernavaca</td>\n",
              "    </tr>\n",
              "    <tr>\n",
              "      <th>1</th>\n",
              "      <td>132825</td>\n",
              "      <td>puesto de tacos</td>\n",
              "    </tr>\n",
              "    <tr>\n",
              "      <th>2</th>\n",
              "      <td>135106</td>\n",
              "      <td>El Rincón de San Francisco</td>\n",
              "    </tr>\n",
              "    <tr>\n",
              "      <th>3</th>\n",
              "      <td>132667</td>\n",
              "      <td>little pizza Emilio Portes Gil</td>\n",
              "    </tr>\n",
              "    <tr>\n",
              "      <th>4</th>\n",
              "      <td>132613</td>\n",
              "      <td>carnitas_mata</td>\n",
              "    </tr>\n",
              "  </tbody>\n",
              "</table>\n",
              "</div>"
            ],
            "text/plain": [
              "   placeID                            name\n",
              "0   134999                 Kiku Cuernavaca\n",
              "1   132825                 puesto de tacos\n",
              "2   135106      El Rincón de San Francisco\n",
              "3   132667  little pizza Emilio Portes Gil\n",
              "4   132613                   carnitas_mata"
            ]
          },
          "metadata": {
            "tags": []
          },
          "execution_count": 6
        }
      ]
    },
    {
      "metadata": {
        "id": "we-A7posbKmj",
        "colab_type": "text"
      },
      "cell_type": "markdown",
      "source": [
        "# **Group and Ranking data**"
      ]
    },
    {
      "metadata": {
        "id": "VeJFRM05bTRL",
        "colab_type": "code",
        "colab": {
          "base_uri": "https://localhost:8080/",
          "height": 235
        },
        "outputId": "352e5f9e-610b-4fa6-c962-ca3580c335e8"
      },
      "cell_type": "code",
      "source": [
        "rating = pd.DataFrame(frame.groupby('placeID')['rating'].mean())\n",
        "rating.head()"
      ],
      "execution_count": 7,
      "outputs": [
        {
          "output_type": "execute_result",
          "data": {
            "text/html": [
              "<div>\n",
              "<style scoped>\n",
              "    .dataframe tbody tr th:only-of-type {\n",
              "        vertical-align: middle;\n",
              "    }\n",
              "\n",
              "    .dataframe tbody tr th {\n",
              "        vertical-align: top;\n",
              "    }\n",
              "\n",
              "    .dataframe thead th {\n",
              "        text-align: right;\n",
              "    }\n",
              "</style>\n",
              "<table border=\"1\" class=\"dataframe\">\n",
              "  <thead>\n",
              "    <tr style=\"text-align: right;\">\n",
              "      <th></th>\n",
              "      <th>rating</th>\n",
              "    </tr>\n",
              "    <tr>\n",
              "      <th>placeID</th>\n",
              "      <th></th>\n",
              "    </tr>\n",
              "  </thead>\n",
              "  <tbody>\n",
              "    <tr>\n",
              "      <th>132560</th>\n",
              "      <td>0.50</td>\n",
              "    </tr>\n",
              "    <tr>\n",
              "      <th>132561</th>\n",
              "      <td>0.75</td>\n",
              "    </tr>\n",
              "    <tr>\n",
              "      <th>132564</th>\n",
              "      <td>1.25</td>\n",
              "    </tr>\n",
              "    <tr>\n",
              "      <th>132572</th>\n",
              "      <td>1.00</td>\n",
              "    </tr>\n",
              "    <tr>\n",
              "      <th>132583</th>\n",
              "      <td>1.00</td>\n",
              "    </tr>\n",
              "  </tbody>\n",
              "</table>\n",
              "</div>"
            ],
            "text/plain": [
              "         rating\n",
              "placeID        \n",
              "132560     0.50\n",
              "132561     0.75\n",
              "132564     1.25\n",
              "132572     1.00\n",
              "132583     1.00"
            ]
          },
          "metadata": {
            "tags": []
          },
          "execution_count": 7
        }
      ]
    },
    {
      "metadata": {
        "id": "Hzc6q0f-bisZ",
        "colab_type": "code",
        "colab": {
          "base_uri": "https://localhost:8080/",
          "height": 235
        },
        "outputId": "36fd18a6-b218-4b9f-e9c6-caafff2b34d9"
      },
      "cell_type": "code",
      "source": [
        "rating['rating_count'] = pd.DataFrame(frame.groupby('placeID')['rating'].count())\n",
        "rating.head()"
      ],
      "execution_count": 9,
      "outputs": [
        {
          "output_type": "execute_result",
          "data": {
            "text/html": [
              "<div>\n",
              "<style scoped>\n",
              "    .dataframe tbody tr th:only-of-type {\n",
              "        vertical-align: middle;\n",
              "    }\n",
              "\n",
              "    .dataframe tbody tr th {\n",
              "        vertical-align: top;\n",
              "    }\n",
              "\n",
              "    .dataframe thead th {\n",
              "        text-align: right;\n",
              "    }\n",
              "</style>\n",
              "<table border=\"1\" class=\"dataframe\">\n",
              "  <thead>\n",
              "    <tr style=\"text-align: right;\">\n",
              "      <th></th>\n",
              "      <th>rating</th>\n",
              "      <th>rating_count</th>\n",
              "    </tr>\n",
              "    <tr>\n",
              "      <th>placeID</th>\n",
              "      <th></th>\n",
              "      <th></th>\n",
              "    </tr>\n",
              "  </thead>\n",
              "  <tbody>\n",
              "    <tr>\n",
              "      <th>132560</th>\n",
              "      <td>0.50</td>\n",
              "      <td>4</td>\n",
              "    </tr>\n",
              "    <tr>\n",
              "      <th>132561</th>\n",
              "      <td>0.75</td>\n",
              "      <td>4</td>\n",
              "    </tr>\n",
              "    <tr>\n",
              "      <th>132564</th>\n",
              "      <td>1.25</td>\n",
              "      <td>4</td>\n",
              "    </tr>\n",
              "    <tr>\n",
              "      <th>132572</th>\n",
              "      <td>1.00</td>\n",
              "      <td>15</td>\n",
              "    </tr>\n",
              "    <tr>\n",
              "      <th>132583</th>\n",
              "      <td>1.00</td>\n",
              "      <td>4</td>\n",
              "    </tr>\n",
              "  </tbody>\n",
              "</table>\n",
              "</div>"
            ],
            "text/plain": [
              "         rating  rating_count\n",
              "placeID                      \n",
              "132560     0.50             4\n",
              "132561     0.75             4\n",
              "132564     1.25             4\n",
              "132572     1.00            15\n",
              "132583     1.00             4"
            ]
          },
          "metadata": {
            "tags": []
          },
          "execution_count": 9
        }
      ]
    },
    {
      "metadata": {
        "id": "GrN2wf0CcNoR",
        "colab_type": "code",
        "colab": {
          "base_uri": "https://localhost:8080/",
          "height": 297
        },
        "outputId": "a8c40c92-808b-434e-b23f-dd210255c0e0"
      },
      "cell_type": "code",
      "source": [
        "rating.describe()"
      ],
      "execution_count": 10,
      "outputs": [
        {
          "output_type": "execute_result",
          "data": {
            "text/html": [
              "<div>\n",
              "<style scoped>\n",
              "    .dataframe tbody tr th:only-of-type {\n",
              "        vertical-align: middle;\n",
              "    }\n",
              "\n",
              "    .dataframe tbody tr th {\n",
              "        vertical-align: top;\n",
              "    }\n",
              "\n",
              "    .dataframe thead th {\n",
              "        text-align: right;\n",
              "    }\n",
              "</style>\n",
              "<table border=\"1\" class=\"dataframe\">\n",
              "  <thead>\n",
              "    <tr style=\"text-align: right;\">\n",
              "      <th></th>\n",
              "      <th>rating</th>\n",
              "      <th>rating_count</th>\n",
              "    </tr>\n",
              "  </thead>\n",
              "  <tbody>\n",
              "    <tr>\n",
              "      <th>count</th>\n",
              "      <td>130.000000</td>\n",
              "      <td>130.000000</td>\n",
              "    </tr>\n",
              "    <tr>\n",
              "      <th>mean</th>\n",
              "      <td>1.179622</td>\n",
              "      <td>8.930769</td>\n",
              "    </tr>\n",
              "    <tr>\n",
              "      <th>std</th>\n",
              "      <td>0.349354</td>\n",
              "      <td>6.124279</td>\n",
              "    </tr>\n",
              "    <tr>\n",
              "      <th>min</th>\n",
              "      <td>0.250000</td>\n",
              "      <td>3.000000</td>\n",
              "    </tr>\n",
              "    <tr>\n",
              "      <th>25%</th>\n",
              "      <td>1.000000</td>\n",
              "      <td>5.000000</td>\n",
              "    </tr>\n",
              "    <tr>\n",
              "      <th>50%</th>\n",
              "      <td>1.181818</td>\n",
              "      <td>7.000000</td>\n",
              "    </tr>\n",
              "    <tr>\n",
              "      <th>75%</th>\n",
              "      <td>1.400000</td>\n",
              "      <td>11.000000</td>\n",
              "    </tr>\n",
              "    <tr>\n",
              "      <th>max</th>\n",
              "      <td>2.000000</td>\n",
              "      <td>36.000000</td>\n",
              "    </tr>\n",
              "  </tbody>\n",
              "</table>\n",
              "</div>"
            ],
            "text/plain": [
              "           rating  rating_count\n",
              "count  130.000000    130.000000\n",
              "mean     1.179622      8.930769\n",
              "std      0.349354      6.124279\n",
              "min      0.250000      3.000000\n",
              "25%      1.000000      5.000000\n",
              "50%      1.181818      7.000000\n",
              "75%      1.400000     11.000000\n",
              "max      2.000000     36.000000"
            ]
          },
          "metadata": {
            "tags": []
          },
          "execution_count": 10
        }
      ]
    },
    {
      "metadata": {
        "id": "A9KWWbqbcaf_",
        "colab_type": "code",
        "colab": {
          "base_uri": "https://localhost:8080/",
          "height": 235
        },
        "outputId": "29ac48e6-a839-49f9-b053-f33aeafd614f"
      },
      "cell_type": "code",
      "source": [
        "rating = rating.sort_values('rating_count', ascending = False)\n",
        "rating.head()"
      ],
      "execution_count": 12,
      "outputs": [
        {
          "output_type": "execute_result",
          "data": {
            "text/html": [
              "<div>\n",
              "<style scoped>\n",
              "    .dataframe tbody tr th:only-of-type {\n",
              "        vertical-align: middle;\n",
              "    }\n",
              "\n",
              "    .dataframe tbody tr th {\n",
              "        vertical-align: top;\n",
              "    }\n",
              "\n",
              "    .dataframe thead th {\n",
              "        text-align: right;\n",
              "    }\n",
              "</style>\n",
              "<table border=\"1\" class=\"dataframe\">\n",
              "  <thead>\n",
              "    <tr style=\"text-align: right;\">\n",
              "      <th></th>\n",
              "      <th>rating</th>\n",
              "      <th>rating_count</th>\n",
              "    </tr>\n",
              "    <tr>\n",
              "      <th>placeID</th>\n",
              "      <th></th>\n",
              "      <th></th>\n",
              "    </tr>\n",
              "  </thead>\n",
              "  <tbody>\n",
              "    <tr>\n",
              "      <th>135085</th>\n",
              "      <td>1.333333</td>\n",
              "      <td>36</td>\n",
              "    </tr>\n",
              "    <tr>\n",
              "      <th>132825</th>\n",
              "      <td>1.281250</td>\n",
              "      <td>32</td>\n",
              "    </tr>\n",
              "    <tr>\n",
              "      <th>135032</th>\n",
              "      <td>1.178571</td>\n",
              "      <td>28</td>\n",
              "    </tr>\n",
              "    <tr>\n",
              "      <th>132834</th>\n",
              "      <td>1.000000</td>\n",
              "      <td>25</td>\n",
              "    </tr>\n",
              "    <tr>\n",
              "      <th>135052</th>\n",
              "      <td>1.280000</td>\n",
              "      <td>25</td>\n",
              "    </tr>\n",
              "  </tbody>\n",
              "</table>\n",
              "</div>"
            ],
            "text/plain": [
              "           rating  rating_count\n",
              "placeID                        \n",
              "135085   1.333333            36\n",
              "132825   1.281250            32\n",
              "135032   1.178571            28\n",
              "132834   1.000000            25\n",
              "135052   1.280000            25"
            ]
          },
          "metadata": {
            "tags": []
          },
          "execution_count": 12
        }
      ]
    },
    {
      "metadata": {
        "id": "Fp8s_kgvcx6X",
        "colab_type": "code",
        "colab": {
          "base_uri": "https://localhost:8080/",
          "height": 80
        },
        "outputId": "2c7077a2-b4a5-49a4-8f88-5abb3f4137e8"
      },
      "cell_type": "code",
      "source": [
        "#creating a filter\n",
        "places[places['placeID']== 135085]"
      ],
      "execution_count": 13,
      "outputs": [
        {
          "output_type": "execute_result",
          "data": {
            "text/html": [
              "<div>\n",
              "<style scoped>\n",
              "    .dataframe tbody tr th:only-of-type {\n",
              "        vertical-align: middle;\n",
              "    }\n",
              "\n",
              "    .dataframe tbody tr th {\n",
              "        vertical-align: top;\n",
              "    }\n",
              "\n",
              "    .dataframe thead th {\n",
              "        text-align: right;\n",
              "    }\n",
              "</style>\n",
              "<table border=\"1\" class=\"dataframe\">\n",
              "  <thead>\n",
              "    <tr style=\"text-align: right;\">\n",
              "      <th></th>\n",
              "      <th>placeID</th>\n",
              "      <th>name</th>\n",
              "    </tr>\n",
              "  </thead>\n",
              "  <tbody>\n",
              "    <tr>\n",
              "      <th>121</th>\n",
              "      <td>135085</td>\n",
              "      <td>Tortas Locas Hipocampo</td>\n",
              "    </tr>\n",
              "  </tbody>\n",
              "</table>\n",
              "</div>"
            ],
            "text/plain": [
              "     placeID                    name\n",
              "121   135085  Tortas Locas Hipocampo"
            ]
          },
          "metadata": {
            "tags": []
          },
          "execution_count": 13
        }
      ]
    },
    {
      "metadata": {
        "id": "lTNcMFLyddne",
        "colab_type": "code",
        "colab": {
          "base_uri": "https://localhost:8080/",
          "height": 80
        },
        "outputId": "232b12e6-7051-4ed5-d5c7-eea5dbd61cb9"
      },
      "cell_type": "code",
      "source": [
        "cuisine[cuisine['placeID']==135085]"
      ],
      "execution_count": 14,
      "outputs": [
        {
          "output_type": "execute_result",
          "data": {
            "text/html": [
              "<div>\n",
              "<style scoped>\n",
              "    .dataframe tbody tr th:only-of-type {\n",
              "        vertical-align: middle;\n",
              "    }\n",
              "\n",
              "    .dataframe tbody tr th {\n",
              "        vertical-align: top;\n",
              "    }\n",
              "\n",
              "    .dataframe thead th {\n",
              "        text-align: right;\n",
              "    }\n",
              "</style>\n",
              "<table border=\"1\" class=\"dataframe\">\n",
              "  <thead>\n",
              "    <tr style=\"text-align: right;\">\n",
              "      <th></th>\n",
              "      <th>placeID</th>\n",
              "      <th>Rcuisine</th>\n",
              "    </tr>\n",
              "  </thead>\n",
              "  <tbody>\n",
              "    <tr>\n",
              "      <th>44</th>\n",
              "      <td>135085</td>\n",
              "      <td>Fast_Food</td>\n",
              "    </tr>\n",
              "  </tbody>\n",
              "</table>\n",
              "</div>"
            ],
            "text/plain": [
              "    placeID   Rcuisine\n",
              "44   135085  Fast_Food"
            ]
          },
          "metadata": {
            "tags": []
          },
          "execution_count": 14
        }
      ]
    },
    {
      "metadata": {
        "id": "pyXOmEgsd2zv",
        "colab_type": "text"
      },
      "cell_type": "markdown",
      "source": [
        "# **Preparing data for analysis**\n"
      ]
    },
    {
      "metadata": {
        "id": "IGVfTs4oeAQe",
        "colab_type": "code",
        "colab": {
          "base_uri": "https://localhost:8080/",
          "height": 284
        },
        "outputId": "5612441d-52e1-481c-8aab-eff5191efcef"
      },
      "cell_type": "code",
      "source": [
        "#user by item utility matrix\n",
        "places_crosstab = pd.pivot_table(data = frame, values = 'rating', index = 'userID', columns = 'placeID' )\n",
        "places_crosstab.head()"
      ],
      "execution_count": 15,
      "outputs": [
        {
          "output_type": "execute_result",
          "data": {
            "text/html": [
              "<div>\n",
              "<style scoped>\n",
              "    .dataframe tbody tr th:only-of-type {\n",
              "        vertical-align: middle;\n",
              "    }\n",
              "\n",
              "    .dataframe tbody tr th {\n",
              "        vertical-align: top;\n",
              "    }\n",
              "\n",
              "    .dataframe thead th {\n",
              "        text-align: right;\n",
              "    }\n",
              "</style>\n",
              "<table border=\"1\" class=\"dataframe\">\n",
              "  <thead>\n",
              "    <tr style=\"text-align: right;\">\n",
              "      <th>placeID</th>\n",
              "      <th>132560</th>\n",
              "      <th>132561</th>\n",
              "      <th>132564</th>\n",
              "      <th>132572</th>\n",
              "      <th>132583</th>\n",
              "      <th>132584</th>\n",
              "      <th>132594</th>\n",
              "      <th>132608</th>\n",
              "      <th>132609</th>\n",
              "      <th>132613</th>\n",
              "      <th>...</th>\n",
              "      <th>135080</th>\n",
              "      <th>135081</th>\n",
              "      <th>135082</th>\n",
              "      <th>135085</th>\n",
              "      <th>135086</th>\n",
              "      <th>135088</th>\n",
              "      <th>135104</th>\n",
              "      <th>135106</th>\n",
              "      <th>135108</th>\n",
              "      <th>135109</th>\n",
              "    </tr>\n",
              "    <tr>\n",
              "      <th>userID</th>\n",
              "      <th></th>\n",
              "      <th></th>\n",
              "      <th></th>\n",
              "      <th></th>\n",
              "      <th></th>\n",
              "      <th></th>\n",
              "      <th></th>\n",
              "      <th></th>\n",
              "      <th></th>\n",
              "      <th></th>\n",
              "      <th></th>\n",
              "      <th></th>\n",
              "      <th></th>\n",
              "      <th></th>\n",
              "      <th></th>\n",
              "      <th></th>\n",
              "      <th></th>\n",
              "      <th></th>\n",
              "      <th></th>\n",
              "      <th></th>\n",
              "      <th></th>\n",
              "    </tr>\n",
              "  </thead>\n",
              "  <tbody>\n",
              "    <tr>\n",
              "      <th>U1001</th>\n",
              "      <td>NaN</td>\n",
              "      <td>NaN</td>\n",
              "      <td>NaN</td>\n",
              "      <td>NaN</td>\n",
              "      <td>NaN</td>\n",
              "      <td>NaN</td>\n",
              "      <td>NaN</td>\n",
              "      <td>NaN</td>\n",
              "      <td>NaN</td>\n",
              "      <td>NaN</td>\n",
              "      <td>...</td>\n",
              "      <td>NaN</td>\n",
              "      <td>NaN</td>\n",
              "      <td>NaN</td>\n",
              "      <td>0.0</td>\n",
              "      <td>NaN</td>\n",
              "      <td>NaN</td>\n",
              "      <td>NaN</td>\n",
              "      <td>NaN</td>\n",
              "      <td>NaN</td>\n",
              "      <td>NaN</td>\n",
              "    </tr>\n",
              "    <tr>\n",
              "      <th>U1002</th>\n",
              "      <td>NaN</td>\n",
              "      <td>NaN</td>\n",
              "      <td>NaN</td>\n",
              "      <td>NaN</td>\n",
              "      <td>NaN</td>\n",
              "      <td>NaN</td>\n",
              "      <td>NaN</td>\n",
              "      <td>NaN</td>\n",
              "      <td>NaN</td>\n",
              "      <td>NaN</td>\n",
              "      <td>...</td>\n",
              "      <td>NaN</td>\n",
              "      <td>NaN</td>\n",
              "      <td>NaN</td>\n",
              "      <td>1.0</td>\n",
              "      <td>NaN</td>\n",
              "      <td>NaN</td>\n",
              "      <td>NaN</td>\n",
              "      <td>1.0</td>\n",
              "      <td>NaN</td>\n",
              "      <td>NaN</td>\n",
              "    </tr>\n",
              "    <tr>\n",
              "      <th>U1003</th>\n",
              "      <td>NaN</td>\n",
              "      <td>NaN</td>\n",
              "      <td>NaN</td>\n",
              "      <td>NaN</td>\n",
              "      <td>NaN</td>\n",
              "      <td>NaN</td>\n",
              "      <td>NaN</td>\n",
              "      <td>NaN</td>\n",
              "      <td>NaN</td>\n",
              "      <td>NaN</td>\n",
              "      <td>...</td>\n",
              "      <td>2.0</td>\n",
              "      <td>NaN</td>\n",
              "      <td>NaN</td>\n",
              "      <td>NaN</td>\n",
              "      <td>NaN</td>\n",
              "      <td>NaN</td>\n",
              "      <td>NaN</td>\n",
              "      <td>NaN</td>\n",
              "      <td>NaN</td>\n",
              "      <td>NaN</td>\n",
              "    </tr>\n",
              "    <tr>\n",
              "      <th>U1004</th>\n",
              "      <td>NaN</td>\n",
              "      <td>NaN</td>\n",
              "      <td>NaN</td>\n",
              "      <td>NaN</td>\n",
              "      <td>NaN</td>\n",
              "      <td>NaN</td>\n",
              "      <td>NaN</td>\n",
              "      <td>NaN</td>\n",
              "      <td>NaN</td>\n",
              "      <td>NaN</td>\n",
              "      <td>...</td>\n",
              "      <td>NaN</td>\n",
              "      <td>NaN</td>\n",
              "      <td>NaN</td>\n",
              "      <td>NaN</td>\n",
              "      <td>NaN</td>\n",
              "      <td>NaN</td>\n",
              "      <td>NaN</td>\n",
              "      <td>2.0</td>\n",
              "      <td>NaN</td>\n",
              "      <td>NaN</td>\n",
              "    </tr>\n",
              "    <tr>\n",
              "      <th>U1005</th>\n",
              "      <td>NaN</td>\n",
              "      <td>NaN</td>\n",
              "      <td>NaN</td>\n",
              "      <td>NaN</td>\n",
              "      <td>NaN</td>\n",
              "      <td>NaN</td>\n",
              "      <td>NaN</td>\n",
              "      <td>NaN</td>\n",
              "      <td>NaN</td>\n",
              "      <td>NaN</td>\n",
              "      <td>...</td>\n",
              "      <td>NaN</td>\n",
              "      <td>NaN</td>\n",
              "      <td>NaN</td>\n",
              "      <td>NaN</td>\n",
              "      <td>NaN</td>\n",
              "      <td>NaN</td>\n",
              "      <td>NaN</td>\n",
              "      <td>NaN</td>\n",
              "      <td>NaN</td>\n",
              "      <td>NaN</td>\n",
              "    </tr>\n",
              "  </tbody>\n",
              "</table>\n",
              "<p>5 rows × 130 columns</p>\n",
              "</div>"
            ],
            "text/plain": [
              "placeID  132560  132561  132564  132572  132583  132584  132594  132608  \\\n",
              "userID                                                                    \n",
              "U1001       NaN     NaN     NaN     NaN     NaN     NaN     NaN     NaN   \n",
              "U1002       NaN     NaN     NaN     NaN     NaN     NaN     NaN     NaN   \n",
              "U1003       NaN     NaN     NaN     NaN     NaN     NaN     NaN     NaN   \n",
              "U1004       NaN     NaN     NaN     NaN     NaN     NaN     NaN     NaN   \n",
              "U1005       NaN     NaN     NaN     NaN     NaN     NaN     NaN     NaN   \n",
              "\n",
              "placeID  132609  132613   ...    135080  135081  135082  135085  135086  \\\n",
              "userID                    ...                                             \n",
              "U1001       NaN     NaN   ...       NaN     NaN     NaN     0.0     NaN   \n",
              "U1002       NaN     NaN   ...       NaN     NaN     NaN     1.0     NaN   \n",
              "U1003       NaN     NaN   ...       2.0     NaN     NaN     NaN     NaN   \n",
              "U1004       NaN     NaN   ...       NaN     NaN     NaN     NaN     NaN   \n",
              "U1005       NaN     NaN   ...       NaN     NaN     NaN     NaN     NaN   \n",
              "\n",
              "placeID  135088  135104  135106  135108  135109  \n",
              "userID                                           \n",
              "U1001       NaN     NaN     NaN     NaN     NaN  \n",
              "U1002       NaN     NaN     1.0     NaN     NaN  \n",
              "U1003       NaN     NaN     NaN     NaN     NaN  \n",
              "U1004       NaN     NaN     2.0     NaN     NaN  \n",
              "U1005       NaN     NaN     NaN     NaN     NaN  \n",
              "\n",
              "[5 rows x 130 columns]"
            ]
          },
          "metadata": {
            "tags": []
          },
          "execution_count": 15
        }
      ]
    },
    {
      "metadata": {
        "id": "qQX6YFoWemBl",
        "colab_type": "code",
        "colab": {
          "base_uri": "https://localhost:8080/",
          "height": 663
        },
        "outputId": "2d27fd4b-c43d-4c5c-8880-76f1a497cd43"
      },
      "cell_type": "code",
      "source": [
        "tortas_rating =  places_crosstab[135085]\n",
        "tortas_rating[tortas_rating >=  0]"
      ],
      "execution_count": 16,
      "outputs": [
        {
          "output_type": "execute_result",
          "data": {
            "text/plain": [
              "userID\n",
              "U1001    0.0\n",
              "U1002    1.0\n",
              "U1007    1.0\n",
              "U1013    1.0\n",
              "U1016    2.0\n",
              "U1027    1.0\n",
              "U1029    1.0\n",
              "U1032    1.0\n",
              "U1033    2.0\n",
              "U1036    2.0\n",
              "U1045    2.0\n",
              "U1046    1.0\n",
              "U1049    0.0\n",
              "U1056    2.0\n",
              "U1059    2.0\n",
              "U1062    0.0\n",
              "U1077    2.0\n",
              "U1081    1.0\n",
              "U1084    2.0\n",
              "U1086    2.0\n",
              "U1089    1.0\n",
              "U1090    2.0\n",
              "U1092    0.0\n",
              "U1098    1.0\n",
              "U1104    2.0\n",
              "U1106    2.0\n",
              "U1108    1.0\n",
              "U1109    2.0\n",
              "U1113    1.0\n",
              "U1116    2.0\n",
              "U1120    0.0\n",
              "U1122    2.0\n",
              "U1132    2.0\n",
              "U1134    2.0\n",
              "U1135    0.0\n",
              "U1137    2.0\n",
              "Name: 135085, dtype: float64"
            ]
          },
          "metadata": {
            "tags": []
          },
          "execution_count": 16
        }
      ]
    },
    {
      "metadata": {
        "id": "i5Ibuua6fJTk",
        "colab_type": "code",
        "colab": {}
      },
      "cell_type": "code",
      "source": [
        ""
      ],
      "execution_count": 0,
      "outputs": []
    },
    {
      "metadata": {
        "id": "PTsgB9lXfQ1t",
        "colab_type": "text"
      },
      "cell_type": "markdown",
      "source": [
        "# **Evaluating Similarity based corellation**"
      ]
    },
    {
      "metadata": {
        "id": "3EFjZFqOfW-U",
        "colab_type": "code",
        "colab": {
          "base_uri": "https://localhost:8080/",
          "height": 303
        },
        "outputId": "ae463d23-f86b-438b-d8a2-5e00f3e5a65e"
      },
      "cell_type": "code",
      "source": [
        "similar_to_tortas = places_crosstab.corrwith(tortas_rating)\n",
        "corr_tortas = pd.DataFrame(similar_to_tortas, columns = ['pearson r'])\n",
        "corr_tortas.dropna(inplace = True)\n",
        "corr_tortas.head()\n",
        "#corr_tortas.sort_values('pearson r', ascending = False).head()"
      ],
      "execution_count": 22,
      "outputs": [
        {
          "output_type": "stream",
          "text": [
            "/usr/local/lib/python3.6/dist-packages/numpy/lib/function_base.py:3175: RuntimeWarning: Degrees of freedom <= 0 for slice\n",
            "  c = cov(x, y, rowvar)\n",
            "/usr/local/lib/python3.6/dist-packages/numpy/lib/function_base.py:3109: RuntimeWarning: divide by zero encountered in double_scalars\n",
            "  c *= 1. / np.float64(fact)\n"
          ],
          "name": "stderr"
        },
        {
          "output_type": "execute_result",
          "data": {
            "text/html": [
              "<div>\n",
              "<style scoped>\n",
              "    .dataframe tbody tr th:only-of-type {\n",
              "        vertical-align: middle;\n",
              "    }\n",
              "\n",
              "    .dataframe tbody tr th {\n",
              "        vertical-align: top;\n",
              "    }\n",
              "\n",
              "    .dataframe thead th {\n",
              "        text-align: right;\n",
              "    }\n",
              "</style>\n",
              "<table border=\"1\" class=\"dataframe\">\n",
              "  <thead>\n",
              "    <tr style=\"text-align: right;\">\n",
              "      <th></th>\n",
              "      <th>pearson r</th>\n",
              "    </tr>\n",
              "    <tr>\n",
              "      <th>placeID</th>\n",
              "      <th></th>\n",
              "    </tr>\n",
              "  </thead>\n",
              "  <tbody>\n",
              "    <tr>\n",
              "      <th>132572</th>\n",
              "      <td>-0.428571</td>\n",
              "    </tr>\n",
              "    <tr>\n",
              "      <th>132723</th>\n",
              "      <td>0.301511</td>\n",
              "    </tr>\n",
              "    <tr>\n",
              "      <th>132754</th>\n",
              "      <td>0.930261</td>\n",
              "    </tr>\n",
              "    <tr>\n",
              "      <th>132825</th>\n",
              "      <td>0.700745</td>\n",
              "    </tr>\n",
              "    <tr>\n",
              "      <th>132834</th>\n",
              "      <td>0.814823</td>\n",
              "    </tr>\n",
              "  </tbody>\n",
              "</table>\n",
              "</div>"
            ],
            "text/plain": [
              "         pearson r\n",
              "placeID           \n",
              "132572   -0.428571\n",
              "132723    0.301511\n",
              "132754    0.930261\n",
              "132825    0.700745\n",
              "132834    0.814823"
            ]
          },
          "metadata": {
            "tags": []
          },
          "execution_count": 22
        }
      ]
    },
    {
      "metadata": {
        "id": "epidl5iRgLr7",
        "colab_type": "code",
        "colab": {
          "base_uri": "https://localhost:8080/",
          "height": 235
        },
        "outputId": "89b043e4-e6ff-49a6-b5c8-5bb862fd02de"
      },
      "cell_type": "code",
      "source": [
        "# Considering the popularity of places\n",
        "tortas_corr_summary = corr_tortas.join(rating['rating_count'])\n",
        "tortas_corr_summary.head()"
      ],
      "execution_count": 24,
      "outputs": [
        {
          "output_type": "execute_result",
          "data": {
            "text/html": [
              "<div>\n",
              "<style scoped>\n",
              "    .dataframe tbody tr th:only-of-type {\n",
              "        vertical-align: middle;\n",
              "    }\n",
              "\n",
              "    .dataframe tbody tr th {\n",
              "        vertical-align: top;\n",
              "    }\n",
              "\n",
              "    .dataframe thead th {\n",
              "        text-align: right;\n",
              "    }\n",
              "</style>\n",
              "<table border=\"1\" class=\"dataframe\">\n",
              "  <thead>\n",
              "    <tr style=\"text-align: right;\">\n",
              "      <th></th>\n",
              "      <th>pearson r</th>\n",
              "      <th>rating_count</th>\n",
              "    </tr>\n",
              "    <tr>\n",
              "      <th>placeID</th>\n",
              "      <th></th>\n",
              "      <th></th>\n",
              "    </tr>\n",
              "  </thead>\n",
              "  <tbody>\n",
              "    <tr>\n",
              "      <th>132572</th>\n",
              "      <td>-0.428571</td>\n",
              "      <td>15</td>\n",
              "    </tr>\n",
              "    <tr>\n",
              "      <th>132723</th>\n",
              "      <td>0.301511</td>\n",
              "      <td>12</td>\n",
              "    </tr>\n",
              "    <tr>\n",
              "      <th>132754</th>\n",
              "      <td>0.930261</td>\n",
              "      <td>13</td>\n",
              "    </tr>\n",
              "    <tr>\n",
              "      <th>132825</th>\n",
              "      <td>0.700745</td>\n",
              "      <td>32</td>\n",
              "    </tr>\n",
              "    <tr>\n",
              "      <th>132834</th>\n",
              "      <td>0.814823</td>\n",
              "      <td>25</td>\n",
              "    </tr>\n",
              "  </tbody>\n",
              "</table>\n",
              "</div>"
            ],
            "text/plain": [
              "         pearson r  rating_count\n",
              "placeID                         \n",
              "132572   -0.428571            15\n",
              "132723    0.301511            12\n",
              "132754    0.930261            13\n",
              "132825    0.700745            32\n",
              "132834    0.814823            25"
            ]
          },
          "metadata": {
            "tags": []
          },
          "execution_count": 24
        }
      ]
    },
    {
      "metadata": {
        "id": "v4AUKiAThmF5",
        "colab_type": "code",
        "colab": {
          "base_uri": "https://localhost:8080/",
          "height": 390
        },
        "outputId": "dd46d1e2-bb22-49f2-ade4-2c980415c9f7"
      },
      "cell_type": "code",
      "source": [
        "#filter\n",
        "tortas_corr_summary[tortas_corr_summary['rating_count'] >= 10].sort_values('pearson r', ascending = False).head(10)\n",
        "\n"
      ],
      "execution_count": 26,
      "outputs": [
        {
          "output_type": "execute_result",
          "data": {
            "text/html": [
              "<div>\n",
              "<style scoped>\n",
              "    .dataframe tbody tr th:only-of-type {\n",
              "        vertical-align: middle;\n",
              "    }\n",
              "\n",
              "    .dataframe tbody tr th {\n",
              "        vertical-align: top;\n",
              "    }\n",
              "\n",
              "    .dataframe thead th {\n",
              "        text-align: right;\n",
              "    }\n",
              "</style>\n",
              "<table border=\"1\" class=\"dataframe\">\n",
              "  <thead>\n",
              "    <tr style=\"text-align: right;\">\n",
              "      <th></th>\n",
              "      <th>pearson r</th>\n",
              "      <th>rating_count</th>\n",
              "    </tr>\n",
              "    <tr>\n",
              "      <th>placeID</th>\n",
              "      <th></th>\n",
              "      <th></th>\n",
              "    </tr>\n",
              "  </thead>\n",
              "  <tbody>\n",
              "    <tr>\n",
              "      <th>135076</th>\n",
              "      <td>1.000000</td>\n",
              "      <td>13</td>\n",
              "    </tr>\n",
              "    <tr>\n",
              "      <th>135085</th>\n",
              "      <td>1.000000</td>\n",
              "      <td>36</td>\n",
              "    </tr>\n",
              "    <tr>\n",
              "      <th>135066</th>\n",
              "      <td>1.000000</td>\n",
              "      <td>12</td>\n",
              "    </tr>\n",
              "    <tr>\n",
              "      <th>132754</th>\n",
              "      <td>0.930261</td>\n",
              "      <td>13</td>\n",
              "    </tr>\n",
              "    <tr>\n",
              "      <th>135045</th>\n",
              "      <td>0.912871</td>\n",
              "      <td>13</td>\n",
              "    </tr>\n",
              "    <tr>\n",
              "      <th>135062</th>\n",
              "      <td>0.898933</td>\n",
              "      <td>21</td>\n",
              "    </tr>\n",
              "    <tr>\n",
              "      <th>135028</th>\n",
              "      <td>0.892218</td>\n",
              "      <td>15</td>\n",
              "    </tr>\n",
              "    <tr>\n",
              "      <th>135042</th>\n",
              "      <td>0.881409</td>\n",
              "      <td>20</td>\n",
              "    </tr>\n",
              "    <tr>\n",
              "      <th>135046</th>\n",
              "      <td>0.867722</td>\n",
              "      <td>11</td>\n",
              "    </tr>\n",
              "    <tr>\n",
              "      <th>132872</th>\n",
              "      <td>0.840168</td>\n",
              "      <td>12</td>\n",
              "    </tr>\n",
              "  </tbody>\n",
              "</table>\n",
              "</div>"
            ],
            "text/plain": [
              "         pearson r  rating_count\n",
              "placeID                         \n",
              "135076    1.000000            13\n",
              "135085    1.000000            36\n",
              "135066    1.000000            12\n",
              "132754    0.930261            13\n",
              "135045    0.912871            13\n",
              "135062    0.898933            21\n",
              "135028    0.892218            15\n",
              "135042    0.881409            20\n",
              "135046    0.867722            11\n",
              "132872    0.840168            12"
            ]
          },
          "metadata": {
            "tags": []
          },
          "execution_count": 26
        }
      ]
    },
    {
      "metadata": {
        "id": "9CBDcmqRiaIq",
        "colab_type": "code",
        "colab": {
          "base_uri": "https://localhost:8080/",
          "height": 204
        },
        "outputId": "ba047c68-6ba7-4381-c7af-e5fac1c3f72e"
      },
      "cell_type": "code",
      "source": [
        "places_corr_tortas = pd.DataFrame([135085,132754, 135045, 135062,135028, 135042,135046], index = np.arange(7), columns = ['placeID'])\n",
        "summary = pd.merge(places_corr_tortas, cuisine, on = 'placeID')\n",
        "summary\n",
        "\n",
        "#We only get 5 results because not all places were listed in the cuisines dataset"
      ],
      "execution_count": 28,
      "outputs": [
        {
          "output_type": "execute_result",
          "data": {
            "text/html": [
              "<div>\n",
              "<style scoped>\n",
              "    .dataframe tbody tr th:only-of-type {\n",
              "        vertical-align: middle;\n",
              "    }\n",
              "\n",
              "    .dataframe tbody tr th {\n",
              "        vertical-align: top;\n",
              "    }\n",
              "\n",
              "    .dataframe thead th {\n",
              "        text-align: right;\n",
              "    }\n",
              "</style>\n",
              "<table border=\"1\" class=\"dataframe\">\n",
              "  <thead>\n",
              "    <tr style=\"text-align: right;\">\n",
              "      <th></th>\n",
              "      <th>placeID</th>\n",
              "      <th>Rcuisine</th>\n",
              "    </tr>\n",
              "  </thead>\n",
              "  <tbody>\n",
              "    <tr>\n",
              "      <th>0</th>\n",
              "      <td>135085</td>\n",
              "      <td>Fast_Food</td>\n",
              "    </tr>\n",
              "    <tr>\n",
              "      <th>1</th>\n",
              "      <td>132754</td>\n",
              "      <td>Mexican</td>\n",
              "    </tr>\n",
              "    <tr>\n",
              "      <th>2</th>\n",
              "      <td>135028</td>\n",
              "      <td>Mexican</td>\n",
              "    </tr>\n",
              "    <tr>\n",
              "      <th>3</th>\n",
              "      <td>135042</td>\n",
              "      <td>Chinese</td>\n",
              "    </tr>\n",
              "    <tr>\n",
              "      <th>4</th>\n",
              "      <td>135046</td>\n",
              "      <td>Fast_Food</td>\n",
              "    </tr>\n",
              "  </tbody>\n",
              "</table>\n",
              "</div>"
            ],
            "text/plain": [
              "   placeID   Rcuisine\n",
              "0   135085  Fast_Food\n",
              "1   132754    Mexican\n",
              "2   135028    Mexican\n",
              "3   135042    Chinese\n",
              "4   135046  Fast_Food"
            ]
          },
          "metadata": {
            "tags": []
          },
          "execution_count": 28
        }
      ]
    },
    {
      "metadata": {
        "id": "UA7X44SDjh0f",
        "colab_type": "code",
        "colab": {
          "base_uri": "https://localhost:8080/",
          "height": 80
        },
        "outputId": "dac25be1-f931-4c15-bf01-f63226fa95cf"
      },
      "cell_type": "code",
      "source": [
        "places[places['placeID']== 135046]"
      ],
      "execution_count": 34,
      "outputs": [
        {
          "output_type": "execute_result",
          "data": {
            "text/html": [
              "<div>\n",
              "<style scoped>\n",
              "    .dataframe tbody tr th:only-of-type {\n",
              "        vertical-align: middle;\n",
              "    }\n",
              "\n",
              "    .dataframe tbody tr th {\n",
              "        vertical-align: top;\n",
              "    }\n",
              "\n",
              "    .dataframe thead th {\n",
              "        text-align: right;\n",
              "    }\n",
              "</style>\n",
              "<table border=\"1\" class=\"dataframe\">\n",
              "  <thead>\n",
              "    <tr style=\"text-align: right;\">\n",
              "      <th></th>\n",
              "      <th>placeID</th>\n",
              "      <th>name</th>\n",
              "    </tr>\n",
              "  </thead>\n",
              "  <tbody>\n",
              "    <tr>\n",
              "      <th>42</th>\n",
              "      <td>135046</td>\n",
              "      <td>Restaurante El Reyecito</td>\n",
              "    </tr>\n",
              "  </tbody>\n",
              "</table>\n",
              "</div>"
            ],
            "text/plain": [
              "    placeID                     name\n",
              "42   135046  Restaurante El Reyecito"
            ]
          },
          "metadata": {
            "tags": []
          },
          "execution_count": 34
        }
      ]
    },
    {
      "metadata": {
        "id": "7izrpEvwkPVe",
        "colab_type": "code",
        "colab": {
          "base_uri": "https://localhost:8080/",
          "height": 102
        },
        "outputId": "1cd3bc7e-f921-40b0-d0c3-570ea5ebbc92"
      },
      "cell_type": "code",
      "source": [
        "cuisine['Rcuisine'].describe()"
      ],
      "execution_count": 35,
      "outputs": [
        {
          "output_type": "execute_result",
          "data": {
            "text/plain": [
              "count         916\n",
              "unique         59\n",
              "top       Mexican\n",
              "freq          239\n",
              "Name: Rcuisine, dtype: object"
            ]
          },
          "metadata": {
            "tags": []
          },
          "execution_count": 35
        }
      ]
    },
    {
      "metadata": {
        "id": "1gxP64OCk1u2",
        "colab_type": "code",
        "colab": {}
      },
      "cell_type": "code",
      "source": [
        ""
      ],
      "execution_count": 0,
      "outputs": []
    }
  ]
}